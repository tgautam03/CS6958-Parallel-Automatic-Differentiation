{
 "cells": [
  {
   "cell_type": "markdown",
   "metadata": {},
   "source": [
    "# Dependencies"
   ]
  },
  {
   "cell_type": "code",
   "execution_count": 17,
   "metadata": {},
   "outputs": [],
   "source": [
    "using Base\n",
    "using StaticArrays\n",
    "\n",
    "using BenchmarkTools"
   ]
  },
  {
   "cell_type": "markdown",
   "metadata": {},
   "source": [
    "# MultiDual"
   ]
  },
  {
   "cell_type": "code",
   "execution_count": 2,
   "metadata": {},
   "outputs": [],
   "source": [
    "mutable struct MultiDual{N,T}\n",
    "\tval::T\n",
    "\t# SVector is static vector which lives on the stack\n",
    "\tgrads::SVector{N,T} \n",
    "end"
   ]
  },
  {
   "cell_type": "code",
   "execution_count": 3,
   "metadata": {},
   "outputs": [],
   "source": [
    "function Base.:+(f::MultiDual{N,T}, g::MultiDual{N,T}) where {N,T}\n",
    "    return MultiDual{N,T}(f.val+g.val, f.grads+g.grads)\n",
    "end\n",
    "\n",
    "function Base.:*(f::MultiDual{N,T}, g::MultiDual{N,T}) where {N,T}\n",
    "    return MultiDual{N,T}(f.val*g.val, f.val*g.grads+f.grads*g.val)\n",
    "end\n",
    "\n",
    "function Base.:*(f::Number, g::MultiDual{N,T}) where {N,T}\n",
    "    return MultiDual{N,T}(f*g.val, f*g.grads)\n",
    "end\n",
    "\n",
    "function Base.:*(f::MultiDual{N,T}, g::Number) where {N,T}\n",
    "    return MultiDual{N,T}(f.val*g, f.grads*g)\n",
    "end\n",
    "\n",
    "function Base.:^(f::MultiDual{N,T}, g::Real) where {N,T}\n",
    "    return Base.power_by_squaring(f,g)\n",
    "end"
   ]
  },
  {
   "cell_type": "code",
   "execution_count": 19,
   "metadata": {},
   "outputs": [
    {
     "data": {
      "text/plain": [
       "sequential_stencil (generic function with 1 method)"
      ]
     },
     "metadata": {},
     "output_type": "display_data"
    }
   ],
   "source": [
    "function parallel_stencil(arr_in, vals_out, grads_out)\n",
    "    Threads.@threads for i=2:length(arr_in)-1\n",
    "        output = stencil(MultiDual(arr_in[i-1], SVector(1.,0.,0.)), MultiDual(arr_in[i], SVector(0.,1.,0.)), MultiDual(arr_in[i+1], SVector(0.,0.,1.)))\n",
    "        vals_out[i-1] = output.val\n",
    "        grads_out[i-1,:] = output.grads\n",
    "    end\n",
    "\n",
    "    return vals_out, grads_out\n",
    "end\n",
    "\n",
    "function sequential_stencil(arr_in, vals_out, grads_out)\n",
    "    for i=2:length(arr_in)-1\n",
    "        output = stencil(MultiDual(arr_in[i-1], SVector(1.,0.,0.)), MultiDual(arr_in[i], SVector(0.,1.,0.)), MultiDual(arr_in[i+1], SVector(0.,0.,1.)))\n",
    "        vals_out[i-1] = output.val\n",
    "        grads_out[i-1,:] = output.grads\n",
    "    end\n",
    "\n",
    "    return vals_out, grads_out\n",
    "end"
   ]
  },
  {
   "cell_type": "code",
   "execution_count": 22,
   "metadata": {},
   "outputs": [
    {
     "name": "stdout",
     "output_type": "stream",
     "text": [
      "  9.790 μs (3687 allocations: 177.62 KiB)\n"
     ]
    },
    {
     "name": "stdout",
     "output_type": "stream",
     "text": [
      "  14.949 μs (3593 allocations: 168.41 KiB)\n"
     ]
    },
    {
     "data": {
      "text/plain": [
       "([0.7999799006974531; 2.3989998799775543; … ; 0.0010598276077355168; 0.21146823274780807;;], [4.338212984915069 1.8834663309962316 1.8797524599189919; 5.648186283258341 5.637049033108953 4.338212984915069; … ; 0.2459293528902565 0.0011271089312295884 0.09725354488304032; 0.22489292792688995 19.405075990442104 0.2459293528902565])"
      ]
     },
     "metadata": {},
     "output_type": "display_data"
    }
   ],
   "source": [
    "stencil(a,b,c) = 2*a * 3*b * 4*c\n",
    "\n",
    "arr_in = rand(900,1)\n",
    "vals_out = zeros(898,1)\n",
    "grads_out = zeros(898,3)\n",
    "\n",
    "vals_out, grads_out = parallel_stencil(arr_in, vals_out, grads_out)\n",
    "\n",
    "@btime _, _ = parallel_stencil(arr_in, vals_out, grads_out)\n",
    "\n",
    "@btime _, _ = sequential_stencil(arr_in, vals_out, grads_out)"
   ]
  },
  {
   "cell_type": "code",
   "execution_count": 13,
   "metadata": {},
   "outputs": [
    {
     "data": {
      "text/plain": [
       "7×1 Matrix{Float64}:\n",
       " 7.242411135584619\n",
       " 3.246528690805309\n",
       " 3.228258736602759\n",
       " 2.435043244492823\n",
       " 0.4653338054183609\n",
       " 0.09377348147807171\n",
       " 0.3033432584250987"
      ]
     },
     "metadata": {},
     "output_type": "display_data"
    }
   ],
   "source": [
    "vals_out\n"
   ]
  },
  {
   "cell_type": "code",
   "execution_count": 14,
   "metadata": {},
   "outputs": [
    {
     "data": {
      "text/plain": [
       "7×3 Matrix{Float64}:\n",
       " 8.22064   7.72401  19.8257\n",
       " 3.46241   8.8872    8.22064\n",
       " 8.83719   8.17438   3.46241\n",
       " 6.16585   2.61166   8.83719\n",
       " 0.499086  1.68878   6.16585\n",
       " 0.34032   1.24253   0.499086\n",
       " 4.01942   1.61447   0.34032"
      ]
     },
     "metadata": {},
     "output_type": "display_data"
    }
   ],
   "source": [
    "grads_out"
   ]
  },
  {
   "cell_type": "code",
   "execution_count": 7,
   "metadata": {},
   "outputs": [
    {
     "data": {
      "text/plain": [
       "16"
      ]
     },
     "metadata": {},
     "output_type": "display_data"
    }
   ],
   "source": [
    "Threads.nthreads()"
   ]
  },
  {
   "cell_type": "code",
   "execution_count": null,
   "metadata": {},
   "outputs": [],
   "source": []
  }
 ],
 "metadata": {
  "kernelspec": {
   "display_name": "Julia 1.9.4",
   "language": "julia",
   "name": "julia-1.9"
  },
  "language_info": {
   "file_extension": ".jl",
   "mimetype": "application/julia",
   "name": "julia",
   "version": "1.9.4"
  }
 },
 "nbformat": 4,
 "nbformat_minor": 2
}
