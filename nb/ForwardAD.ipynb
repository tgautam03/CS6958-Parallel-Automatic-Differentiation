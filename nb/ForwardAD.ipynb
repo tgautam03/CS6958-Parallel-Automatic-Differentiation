{
 "cells": [
  {
   "cell_type": "code",
   "execution_count": 1,
   "metadata": {},
   "outputs": [],
   "source": [
    "using Base\n",
    "using StaticArrays"
   ]
  },
  {
   "cell_type": "code",
   "execution_count": 11,
   "metadata": {},
   "outputs": [],
   "source": [
    "struct Dual{T}\n",
    "    val::T\n",
    "    grad::T\n",
    "end\n",
    "\n",
    "Base.:+(f::Dual, g::Dual) = Dual(f.val+g.val, f.grad+g.grad)\n",
    "Base.:+(f::Dual, g::Real) = Dual(f.val+g, f.grad)\n",
    "Base.:+(f::Real, g::Dual) = Dual(f+g.val, g.grad)\n",
    "\n",
    "Base.:*(f::Dual, g::Dual) = Dual(f.val*g.val, f.val*g.grad+f.grad*g.val)\n",
    "Base.:*(f::Dual, g::Real) = Dual(f.val*g, f.grad*g)\n",
    "Base.:*(f::Real, g::Dual) = Dual(f*g.val, f*g.grad)\n",
    "\n",
    "\n",
    "struct MultiDual{N,T}\n",
    "\tval::T\n",
    "\t# SVector is static vector which lives on the stack\n",
    "\tgrads::SVector{N,T} \n",
    "end\n",
    "\n",
    "function Base.:+(f::MultiDual{N,T}, g::MultiDual{N,T}) where {N,T}\n",
    "    return MultiDual{N,T}(f.val+g.val, f.grads+g.grads)\n",
    "end\n",
    "\n",
    "function Base.:*(f::MultiDual{N,T}, g::MultiDual{N,T}) where {N,T}\n",
    "    return MultiDual{N,T}(f.val*g.val, f.val*g.grads+f.grads*g.val)\n",
    "end\n",
    "\n",
    "function Base.:^(f::MultiDual{N,T}, g::Real) where {N,T}\n",
    "    return Base.power_by_squaring(f,g)\n",
    "end"
   ]
  },
  {
   "cell_type": "code",
   "execution_count": 18,
   "metadata": {},
   "outputs": [
    {
     "name": "stdout",
     "output_type": "stream",
     "text": [
      "[0.18154965230087694, 0.49662287213541156, 0.34701580613435246]\n",
      "Dual{Float64}(3.2410311455453984, 3.0)\n"
     ]
    }
   ],
   "source": [
    "arr = rand(3)\n",
    "out = zeros(1)\n",
    "\n",
    "test = 2.0*Dual(arr[1], 1.0) + 3.0*Dual(arr[2], 0.0) + 4.0*Dual(arr[3], 0.0)\n",
    "\n",
    "println(arr)\n",
    "println(test)"
   ]
  },
  {
   "cell_type": "code",
   "execution_count": 12,
   "metadata": {},
   "outputs": [
    {
     "ename": "MethodError",
     "evalue": "MethodError: convert(::Type{Union{}}, ::MultiDual{2, Float64}) is ambiguous.\n\nCandidates:\n  convert(::Type{T}, arg) where T<:VecElement\n    @ Base baseext.jl:19\n  convert(T::Type{<:Core.IntrinsicFunction}, x)\n    @ Base essentials.jl:289\n  convert(T::Type{<:Nothing}, x)\n    @ Base essentials.jl:290\n\nPossible fix, define\n  convert(::Type{Union{}}, ::Any)\n",
     "output_type": "error",
     "traceback": [
      "MethodError: convert(::Type{Union{}}, ::MultiDual{2, Float64}) is ambiguous.\n",
      "\n",
      "Candidates:\n",
      "  convert(::Type{T}, arg) where T<:VecElement\n",
      "    @ Base baseext.jl:19\n",
      "  convert(T::Type{<:Core.IntrinsicFunction}, x)\n",
      "    @ Base essentials.jl:289\n",
      "  convert(T::Type{<:Nothing}, x)\n",
      "    @ Base essentials.jl:290\n",
      "\n",
      "Possible fix, define\n",
      "  convert(::Type{Union{}}, ::Any)\n",
      "\n",
      "\n",
      "Stacktrace:\n",
      " [1] to_power_type(x::MultiDual{2, Float64})\n",
      "   @ Base ./intfuncs.jl:248\n",
      " [2] power_by_squaring(x_::MultiDual{2, Float64}, p::Int64)\n",
      "   @ Base ./intfuncs.jl:263\n",
      " [3] ^(f::MultiDual{2, Float64}, g::Int64)\n",
      "   @ Main ~/projects/Parallel-Automatic-Differentiation/nb/ForwardAD.ipynb:30\n",
      " [4] literal_pow\n",
      "   @ ./intfuncs.jl:338 [inlined]\n",
      " [5] ff(x::MultiDual{2, Float64}, y::MultiDual{2, Float64})\n",
      "   @ Main ~/projects/Parallel-Automatic-Differentiation/nb/ForwardAD.ipynb:1\n",
      " [6] top-level scope\n",
      "   @ ~/projects/Parallel-Automatic-Differentiation/nb/ForwardAD.ipynb:8"
     ]
    }
   ],
   "source": [
    "ff(x, y) = x^2 + x*y\n",
    "gg(x, y) = y^3 + x\n",
    "\n",
    "# Jacobian at x=3 and y=4\n",
    "xx = MultiDual(3., SVector(1.,0.))\n",
    "yy = MultiDual(4., SVector(0.,1.))\n",
    "\n",
    "println(\"Jacobian: \", ff(xx, yy).grads, gg(xx, yy).grads)"
   ]
  },
  {
   "cell_type": "code",
   "execution_count": null,
   "metadata": {},
   "outputs": [],
   "source": []
  }
 ],
 "metadata": {
  "kernelspec": {
   "display_name": "Julia 1.9.3",
   "language": "julia",
   "name": "julia-1.9"
  },
  "language_info": {
   "file_extension": ".jl",
   "mimetype": "application/julia",
   "name": "julia",
   "version": "1.9.3"
  }
 },
 "nbformat": 4,
 "nbformat_minor": 2
}
