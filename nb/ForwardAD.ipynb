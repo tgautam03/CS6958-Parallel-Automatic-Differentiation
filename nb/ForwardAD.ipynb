{
 "cells": [
  {
   "cell_type": "markdown",
   "metadata": {},
   "source": [
    "# Dependencies"
   ]
  },
  {
   "cell_type": "code",
   "execution_count": 1,
   "metadata": {},
   "outputs": [],
   "source": [
    "using Base\n",
    "using StaticArrays"
   ]
  },
  {
   "cell_type": "markdown",
   "metadata": {},
   "source": [
    "# MultiDual"
   ]
  },
  {
   "cell_type": "code",
   "execution_count": 2,
   "metadata": {},
   "outputs": [],
   "source": [
    "mutable struct MultiDual{N,T}\n",
    "\tval::T\n",
    "\t# SVector is static vector which lives on the stack\n",
    "\tgrads::SVector{N,T} \n",
    "end"
   ]
  },
  {
   "cell_type": "code",
   "execution_count": 18,
   "metadata": {},
   "outputs": [],
   "source": [
    "function Base.:+(f::MultiDual{N,T}, g::MultiDual{N,T}) where {N,T}\n",
    "    return MultiDual{N,T}(f.val+g.val, f.grads+g.grads)\n",
    "end\n",
    "\n",
    "function Base.:*(f::MultiDual{N,T}, g::MultiDual{N,T}) where {N,T}\n",
    "    return MultiDual{N,T}(f.val*g.val, f.val*g.grads+f.grads*g.val)\n",
    "end\n",
    "\n",
    "function Base.:*(f::Number, g::MultiDual{N,T}) where {N,T}\n",
    "    return MultiDual{N,T}(f*g.val, f*g.grads)\n",
    "end\n",
    "\n",
    "function Base.:*(f::MultiDual{N,T}, g::Number) where {N,T}\n",
    "    return MultiDual{N,T}(f.val*g, f.grads*g)\n",
    "end\n",
    "\n",
    "function Base.:^(f::MultiDual{N,T}, g::Real) where {N,T}\n",
    "    return Base.power_by_squaring(f,g)\n",
    "end"
   ]
  },
  {
   "cell_type": "code",
   "execution_count": 22,
   "metadata": {},
   "outputs": [],
   "source": [
    "stencil(a,b,c) = 2*a * 3*b * 4*c\n",
    "\n",
    "arr_in = rand(9,1)\n",
    "vals_out = zeros(7,1)\n",
    "grads_out = zeros(7,3)\n",
    "\n",
    "for i=2:length(arr_in)-1\n",
    "    output = stencil(MultiDual(arr_in[i-1], SVector(1.,0.,0.)), MultiDual(arr_in[i], SVector(0.,1.,0.)), MultiDual(arr_in[i+1], SVector(0.,0.,1.)))\n",
    "    vals_out[i-1] = output.val\n",
    "    grads_out[i-1,:] = output.grads\n",
    "end"
   ]
  },
  {
   "cell_type": "code",
   "execution_count": 23,
   "metadata": {},
   "outputs": [
    {
     "data": {
      "text/plain": [
       "7×1 Matrix{Float64}:\n",
       "  7.997894530850245\n",
       " 12.116094902743747\n",
       "  0.138586989684442\n",
       "  0.11212640254683372\n",
       "  0.08120614816299015\n",
       "  2.807202617019824\n",
       "  0.600623095137713"
      ]
     },
     "metadata": {},
     "output_type": "display_data"
    }
   ],
   "source": [
    "vals_out\n"
   ]
  },
  {
   "cell_type": "code",
   "execution_count": 24,
   "metadata": {},
   "outputs": [
    {
     "data": {
      "text/plain": [
       "7×3 Matrix{Float64}:\n",
       " 14.1503    11.0933     9.78001\n",
       " 16.8053    14.8158    14.1503\n",
       "  0.169467   0.161854  16.8053\n",
       "  0.130951  13.5966     0.169467\n",
       "  9.84719    0.122735   0.130951\n",
       "  4.24279    4.52683    9.84719\n",
       "  0.968552   2.10688    4.24279"
      ]
     },
     "metadata": {},
     "output_type": "display_data"
    }
   ],
   "source": [
    "grads_out"
   ]
  },
  {
   "cell_type": "code",
   "execution_count": null,
   "metadata": {},
   "outputs": [],
   "source": []
  }
 ],
 "metadata": {
  "kernelspec": {
   "display_name": "Julia 1.9.3",
   "language": "julia",
   "name": "julia-1.9"
  },
  "language_info": {
   "file_extension": ".jl",
   "mimetype": "application/julia",
   "name": "julia",
   "version": "1.9.3"
  }
 },
 "nbformat": 4,
 "nbformat_minor": 2
}
