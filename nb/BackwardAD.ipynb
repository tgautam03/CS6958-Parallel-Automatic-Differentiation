{
 "cells": [
  {
   "cell_type": "markdown",
   "metadata": {},
   "source": [
    "# Dependencies"
   ]
  },
  {
   "cell_type": "code",
   "execution_count": 1,
   "metadata": {},
   "outputs": [],
   "source": [
    "using Base\n",
    "\n",
    "using BenchmarkTools"
   ]
  },
  {
   "cell_type": "markdown",
   "metadata": {},
   "source": [
    "# Variable"
   ]
  },
  {
   "cell_type": "code",
   "execution_count": 2,
   "metadata": {},
   "outputs": [],
   "source": [
    "mutable struct Variable\n",
    "    value::Number       # Value of this Variable\n",
    "    parents::Vector     # Who created this Variable\n",
    "    chain_rules::Vector # Functions representing the chain rules\n",
    "\n",
    "    # Constructor for creating Input Nodes\n",
    "    function Variable(value::Number)\n",
    "        new(value, [], [])\n",
    "    end\n",
    "\n",
    "    # Constructor for creating Intermediate/Output Nodes\n",
    "    function Variable(value::Number, parents::Vector{Variable}, chain_rules::Vector)\n",
    "        new(value, parents, chain_rules)\n",
    "    end\n",
    "end"
   ]
  },
  {
   "cell_type": "code",
   "execution_count": 3,
   "metadata": {},
   "outputs": [],
   "source": [
    "# Addition Operaton on Scalars\n",
    "function Base.:+(var1::Variable, var2::Variable)\n",
    "    # Performing Addition\n",
    "    value = var1.value + var2.value\n",
    "\n",
    "    # Local Gradients Computations\n",
    "    global_dvar1 = global_grad::Variable -> global_grad * 1\n",
    "    global_dvar2 = global_grad::Variable -> global_grad * 1\n",
    "\n",
    "    return Variable(value, [var1, var2], [global_dvar1, global_dvar2])\n",
    "end"
   ]
  },
  {
   "cell_type": "code",
   "execution_count": 4,
   "metadata": {},
   "outputs": [],
   "source": [
    "# Multiplication Operaton on Scalars\n",
    "function Base.:*(var1::Variable, var2::Variable)\n",
    "    # Performing Multiplication\n",
    "    value = var1.value * var2.value\n",
    "\n",
    "    # Local Gradients Computations\n",
    "    global_dvar1 = global_grad::Variable -> global_grad * var2\n",
    "    global_dvar2 = global_grad::Variable -> global_grad * var1\n",
    "\n",
    "    return Variable(value, [var1, var2], [global_dvar1, global_dvar2])\n",
    "end\n",
    "\n",
    "# Multiplication Operaton on Scalars\n",
    "function Base.:*(var1::Variable, var2::Number)\n",
    "    # Performing Multiplication\n",
    "    value = var1.value * var2\n",
    "\n",
    "    # Local Gradients Computations\n",
    "    global_dvar1 = global_grad::Variable -> global_grad * var2\n",
    "\n",
    "    return Variable(value, [var1], [global_dvar1])\n",
    "end\n",
    "\n",
    "# Multiplication Operaton on Scalars\n",
    "function Base.:*(var1::Number, var2::Variable)\n",
    "    # Performing Multiplication\n",
    "    value = var1 * var2.value\n",
    "\n",
    "    # Local Gradients Computations\n",
    "    global_dvar2 = global_grad::Variable -> global_grad * var1\n",
    "\n",
    "    return Variable(value, [var2], [global_dvar2])\n",
    "end"
   ]
  },
  {
   "cell_type": "code",
   "execution_count": 14,
   "metadata": {},
   "outputs": [
    {
     "data": {
      "text/plain": [
       "autograd (generic function with 1 method)"
      ]
     },
     "metadata": {},
     "output_type": "display_data"
    }
   ],
   "source": [
    "# Uses compute() to get gradients and store them in a dict\n",
    "function autograd(T::Variable)\n",
    "\tgradients = Dict() # Dict to hold grads of T wrt all creators\n",
    "\n",
    "    # Computes the global gradient WRT node\n",
    "    function compute(node::Variable, global_grad::Variable)\n",
    "        for (parent, chain_rule) in zip(node.parents, node.chain_rules)\n",
    "            # Chain Rule\n",
    "            new_global_grad = chain_rule(global_grad)\n",
    "\n",
    "            # Checking if grad present or not\n",
    "            if haskey(gradients, parent)\n",
    "                gradients[parent] += new_global_grad\n",
    "            else\n",
    "                gradients[parent] = new_global_grad\n",
    "            end\n",
    "\n",
    "            # Recusive call\n",
    "            compute(parent, new_global_grad)\n",
    "        end\n",
    "    end\n",
    "    \n",
    "\t# Output Node\n",
    "\tdT_dT = Variable(1)\n",
    "\tcompute(T, dT_dT)\n",
    "\n",
    "\treturn gradients\n",
    "end"
   ]
  },
  {
   "cell_type": "markdown",
   "metadata": {},
   "source": [
    "# Stencil Computation"
   ]
  },
  {
   "cell_type": "code",
   "execution_count": 30,
   "metadata": {},
   "outputs": [],
   "source": [
    "arr_in = rand(9,1)\n",
    "var_in = []\n",
    "for num in arr_in\n",
    "    push!(var_in, Variable(num)) \n",
    "end\n",
    "\n",
    "stencil(a,b,c) = 2*a * 3*b * 4*c\n",
    "\n",
    "outputs = []\n",
    "for i=2:size(arr_in)[1]-1\n",
    "    output = stencil(var_in[i-1], var_in[i], var_in[i+1])\n",
    "    push!(outputs, output)\n",
    "end"
   ]
  },
  {
   "cell_type": "code",
   "execution_count": null,
   "metadata": {},
   "outputs": [],
   "source": []
  }
 ],
 "metadata": {
  "kernelspec": {
   "display_name": "Julia 1.9.4",
   "language": "julia",
   "name": "julia-1.9"
  },
  "language_info": {
   "file_extension": ".jl",
   "mimetype": "application/julia",
   "name": "julia",
   "version": "1.9.4"
  }
 },
 "nbformat": 4,
 "nbformat_minor": 2
}
